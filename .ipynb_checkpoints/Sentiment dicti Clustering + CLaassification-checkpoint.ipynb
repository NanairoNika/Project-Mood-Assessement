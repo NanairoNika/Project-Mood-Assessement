{
 "cells": [
  {
   "cell_type": "code",
   "execution_count": 26,
   "metadata": {},
   "outputs": [],
   "source": [
    "import re\n",
    "import csv\n",
    "import json\n",
    "import numpy as np\n",
    "import pandas as pd\n",
    "from itertools import groupby\n",
    "from collections import namedtuple\n",
    "from pandas.io.json import json_normalize\n",
    "\n",
    "import nltk\n",
    "import pymorphy2\n",
    "from string import punctuation\n",
    "from nltk.corpus import stopwords\n",
    "from nltk.tokenize import sent_tokenize, word_tokenize\n",
    "\n",
    "from gensim.models import Doc2Vec\n",
    "from gensim.models import Word2Vec\n",
    "from gensim.models import KeyedVectors\n",
    "\n",
    "from sklearn.feature_extraction.text import TfidfVectorizer\n",
    "from sklearn.model_selection import train_test_split\n",
    "from sklearn.semi_supervised import LabelPropagation\n",
    "from sklearn.semi_supervised import LabelSpreading\n",
    "from sklearn.cluster import KMeans\n",
    "from sklearn.ensemble import BaggingClassifier\n",
    "from sklearn.linear_model import LogisticRegression"
   ]
  },
  {
   "cell_type": "code",
   "execution_count": 2,
   "metadata": {},
   "outputs": [],
   "source": [
    "def cleaning(text):\n",
    "    text = re.sub(r'[^\\w\\s]','',text)\n",
    "    tokenized = []\n",
    "    words = word_tokenize(text)\n",
    "    for word in words:\n",
    "        p = morph.parse(word)[0]\n",
    "        tokenized.append(p.normal_form)\n",
    "    tokenized = [token for token in tokenized if token not in stopWords\\\n",
    "                and token != \" \" \\\n",
    "                and token != \"—\" \\\n",
    "                and token != \"«\" \\\n",
    "                and token != \"»\" \\\n",
    "                and token != \"..\" \\\n",
    "                and token.strip() not in punctuation]\n",
    "    return tokenized"
   ]
  },
  {
   "cell_type": "code",
   "execution_count": 3,
   "metadata": {},
   "outputs": [],
   "source": [
    "def shaping (rev):\n",
    "    reviews = []\n",
    "    analyzedDocument = namedtuple('AnalyzedDocument', 'words tags')\n",
    "    for i, text in enumerate(rev):\n",
    "        tags = [i]\n",
    "        reviews.append(analyzedDocument(text, tags))\n",
    "    return reviews"
   ]
  },
  {
   "cell_type": "code",
   "execution_count": 4,
   "metadata": {},
   "outputs": [],
   "source": [
    "def TFIDF (poems):\n",
    "    arrpoems =[]\n",
    "    for i in poems:\n",
    "        string = ' '.join(i)\n",
    "        arrpoems.append(string)\n",
    "    vectorizer = TfidfVectorizer()\n",
    "    matrix = vectorizer.fit_transform(arrpoems).todense()\n",
    "    matrix = pd.DataFrame(matrix, columns=vectorizer.get_feature_names())\n",
    "    return matrix"
   ]
  },
  {
   "cell_type": "code",
   "execution_count": 5,
   "metadata": {},
   "outputs": [],
   "source": [
    "def wvtodv (text, n, vecs, tfidf, labels):\n",
    "    updvec = np.zeros((1,100))\n",
    "    for word in text:\n",
    "        w2v = np.array(vecs[word])\n",
    "        if word in tfidf:\n",
    "            ti = tfidf[word][n]\n",
    "            new = w2v*ti*labels[i]\n",
    "        else :\n",
    "            new = w2v\n",
    "        updvec = updvec + new\n",
    "    return updvec"
   ]
  },
  {
   "cell_type": "code",
   "execution_count": 6,
   "metadata": {},
   "outputs": [],
   "source": [
    "dictionary = pd.read_csv('WordRate.csv', sep=';', index_col=0, encoding = 'windows-1251')\n",
    "sentiments = dictionary['average rate']\n",
    "positive1 = dictionary[lambda x: x['average rate'] == 1]\n",
    "positive2 = dictionary[lambda x: x['average rate'] == 2]\n",
    "negative1 = dictionary[lambda x: x['average rate'] == -1]\n",
    "negative2 = dictionary[lambda x: x['average rate'] == -2]\n",
    "neutral = dictionary[lambda x: x['average rate'] == 0]\n",
    "posdf1 = positive1['average rate']\n",
    "posdf2 = positive2['average rate']\n",
    "negdf1 = negative1['average rate']\n",
    "negdf2 = negative2['average rate']\n",
    "neudf = neutral['average rate']\n",
    "pos1 = posdf1.index\n",
    "pos2 = posdf2.index\n",
    "neg1 = negdf1.index\n",
    "neg2 = negdf2.index\n",
    "neu = neudf.index"
   ]
  },
  {
   "cell_type": "code",
   "execution_count": 7,
   "metadata": {},
   "outputs": [],
   "source": [
    "#Blok\n",
    "file = 'classic_poems.json'\n",
    "with open(file, 'r', encoding='utf-8') as fh: #открываем файл на чтение\n",
    "    data = json.load(fh)\n",
    "morph = pymorphy2.MorphAnalyzer()\n",
    "stopWords = stopwords.words('russian')"
   ]
  },
  {
   "cell_type": "code",
   "execution_count": 8,
   "metadata": {},
   "outputs": [],
   "source": [
    "#Preprocessing\n",
    "poems = pd.DataFrame(data)\n",
    "blok = poems[lambda x: x['poet_id'] == 'blok']\n",
    "cleaned_blok = blok['content'].apply(cleaning)\n",
    "dfpoems = cleaned_blok\n",
    "Blokpoems = dfpoems.tolist()\n",
    "blok_train, blok_test = train_test_split(Blokpoems, test_size=0.5, random_state=50)"
   ]
  },
  {
   "cell_type": "code",
   "execution_count": 9,
   "metadata": {},
   "outputs": [],
   "source": [
    "modeltrain = Word2Vec(blok_train, size=100, window=5, min_count=1, iter=10)\n",
    "modeltrain.init_sims(replace = True)\n",
    "modeltrain.save(\"word2vec.model\")\n",
    "wv = KeyedVectors.load(\"word2vec.model\", mmap='r')\n",
    "allwords2 = modeltrain.wv.vocab\n",
    "words2 = [i for i in allwords2]\n",
    "vocabularytrain = sorted(words2)\n",
    "vectorstrain = []\n",
    "for word in vocabularytrain:\n",
    "    vectorstrain.append(np.array(modeltrain.wv[word]))\n"
   ]
  },
  {
   "cell_type": "code",
   "execution_count": 10,
   "metadata": {},
   "outputs": [],
   "source": [
    "tfidfplain = TFIDF(blok_train)"
   ]
  },
  {
   "cell_type": "code",
   "execution_count": 11,
   "metadata": {},
   "outputs": [],
   "source": [
    "sents = []\n",
    "for word in vocabularytrain:\n",
    "    if word in pos1:\n",
    "        sents.append(3)\n",
    "    elif word in pos2:\n",
    "        sents.append(4)\n",
    "    elif word in neu:\n",
    "        sents.append(2)\n",
    "    elif word in neg1:\n",
    "        sents.append(1)\n",
    "    elif word in neg2:\n",
    "        sents.append(0)\n",
    "    else:\n",
    "        sents.append(-1)"
   ]
  },
  {
   "cell_type": "code",
   "execution_count": 12,
   "metadata": {},
   "outputs": [],
   "source": [
    "labeled_spr = LabelSpreading(kernel='knn')\n",
    "labelsent = labeled_spr.fit(vectorstrain, sents)\n",
    "labels = labelsent.transduction_"
   ]
  },
  {
   "cell_type": "code",
   "execution_count": 13,
   "metadata": {},
   "outputs": [],
   "source": [
    "tf = []\n",
    "for i in range (0,538):\n",
    "    vec = wvtodv(blok_train[i], i, modeltrain.wv, tfidfplain, labels)[0]\n",
    "    tf.append(np.array(vec))"
   ]
  },
  {
   "cell_type": "code",
   "execution_count": 14,
   "metadata": {},
   "outputs": [],
   "source": [
    "kmeans = KMeans(n_clusters=2, max_iter = 500, random_state=50).fit(tf)\n",
    "lab = kmeans.labels_"
   ]
  },
  {
   "cell_type": "code",
   "execution_count": 23,
   "metadata": {},
   "outputs": [],
   "source": [
    "modeltest = Word2Vec(blok_test, size=100, window=5, min_count=1, iter=10)\n",
    "modeltest.init_sims(replace = True)\n",
    "modeltest.save(\"word2vec.model\")\n",
    "wv = KeyedVectors.load(\"word2vec.model\", mmap='r')\n",
    "allwordstest = modeltest.wv.vocab\n",
    "wordstest = [i for i in allwordstest]\n",
    "vocabularytest = sorted(wordstest)\n",
    "vectorstest = []\n",
    "for word in vocabularytest:\n",
    "    vectorstest.append(np.array(modeltest.wv[word]))"
   ]
  },
  {
   "cell_type": "code",
   "execution_count": 44,
   "metadata": {},
   "outputs": [],
   "source": [
    "tfidftest = TFIDF(blok_test)"
   ]
  },
  {
   "cell_type": "code",
   "execution_count": 50,
   "metadata": {},
   "outputs": [],
   "source": [
    "tftest = []\n",
    "for i in range (0,539):\n",
    "    updvec = np.zeros((1,100))\n",
    "    for word in blok_test[i]:\n",
    "        vec = np.array(modeltest.wv[word])\n",
    "        if word in tfidftest:\n",
    "            ti = tfidftest[word][i]\n",
    "            new = vec*ti\n",
    "        else :\n",
    "            new = vec\n",
    "        updvec = updvec + new\n",
    "    tftest.append(updvec[0])"
   ]
  },
  {
   "cell_type": "code",
   "execution_count": 51,
   "metadata": {},
   "outputs": [],
   "source": [
    "bc = BaggingClassifier(n_estimators=100, random_state=50)\n",
    "trees = model.fit(tf, lab)\n",
    "predBC = trees.predict(tftest)"
   ]
  },
  {
   "cell_type": "code",
   "execution_count": 52,
   "metadata": {},
   "outputs": [
    {
     "name": "stderr",
     "output_type": "stream",
     "text": [
      "C:\\Users\\1255971\\Anaconda3\\lib\\site-packages\\sklearn\\linear_model\\logistic.py:433: FutureWarning: Default solver will be changed to 'lbfgs' in 0.22. Specify a solver to silence this warning.\n",
      "  FutureWarning)\n"
     ]
    }
   ],
   "source": [
    "clf = LogisticRegression(random_state=50)\n",
    "lr = clf.fit(tf, lab)\n",
    "predLR = clf.predict(tftest)"
   ]
  },
  {
   "cell_type": "code",
   "execution_count": 54,
   "metadata": {},
   "outputs": [
    {
     "data": {
      "text/plain": [
       "array([0, 0, 0, 0, 0, 0, 0, 0, 0, 0, 0, 0, 0, 0, 0, 0, 0, 0, 0, 0, 0, 0,\n",
       "       0, 0, 0, 0, 0, 0, 0, 0, 0, 0, 0, 0, 0, 0, 0, 0, 0, 0, 0, 0, 0, 0,\n",
       "       0, 0, 0, 0, 0, 0, 0, 0, 0, 0, 0, 0, 0, 0, 0, 0, 0, 0, 0, 0, 0, 0,\n",
       "       0, 0, 0, 0, 0, 0, 0, 0, 0, 0, 0, 0, 0, 0, 0, 0, 0, 1, 0, 0, 0, 0,\n",
       "       0, 0, 0, 0, 0, 0, 0, 0, 0, 0, 0, 0, 0, 0, 0, 0, 0, 0, 0, 0, 0, 0,\n",
       "       0, 0, 0, 0, 0, 0, 0, 0, 0, 0, 0, 0, 0, 1, 0, 0, 0, 0, 0, 0, 0, 0,\n",
       "       0, 0, 0, 0, 0, 0, 0, 0, 0, 0, 0, 0, 0, 0, 0, 0, 0, 0, 0, 0, 0, 0,\n",
       "       0, 0, 0, 0, 0, 0, 0, 0, 0, 0, 0, 0, 0, 0, 0, 0, 0, 0, 0, 0, 0, 0,\n",
       "       0, 0, 0, 0, 0, 0, 0, 0, 0, 0, 0, 0, 0, 0, 0, 0, 0, 0, 0, 0, 0, 0,\n",
       "       0, 0, 0, 0, 0, 0, 0, 0, 0, 0, 0, 0, 0, 0, 0, 0, 0, 0, 0, 0, 0, 0,\n",
       "       0, 0, 0, 0, 0, 0, 0, 0, 0, 0, 0, 0, 0, 0, 0, 0, 0, 0, 0, 0, 0, 0,\n",
       "       0, 0, 0, 0, 0, 0, 0, 0, 0, 0, 0, 0, 0, 0, 0, 0, 0, 0, 0, 0, 0, 0,\n",
       "       0, 0, 0, 0, 0, 0, 0, 0, 0, 0, 0, 0, 0, 0, 0, 0, 0, 0, 0, 0, 0, 0,\n",
       "       0, 0, 0, 0, 0, 0, 0, 0, 0, 0, 0, 0, 0, 0, 0, 0, 0, 0, 0, 0, 0, 0,\n",
       "       0, 0, 0, 0, 0, 0, 0, 0, 0, 0, 0, 0, 0, 0, 0, 0, 0, 0, 0, 0, 0, 0,\n",
       "       0, 0, 0, 0, 0, 0, 0, 0, 0, 0, 0, 0, 0, 0, 0, 1, 0, 0, 0, 0, 0, 0,\n",
       "       0, 0, 0, 0, 0, 0, 0, 0, 0, 0, 0, 0, 0, 0, 0, 0, 0, 0, 0, 0, 0, 0,\n",
       "       0, 0, 0, 0, 0, 0, 0, 0, 0, 0, 0, 0, 0, 0, 0, 0, 0, 0, 0, 0, 0, 0,\n",
       "       0, 0, 0, 0, 0, 0, 0, 0, 0, 0, 0, 0, 0, 0, 0, 0, 0, 0, 0, 0, 0, 0,\n",
       "       0, 0, 0, 0, 0, 0, 0, 0, 0, 0, 0, 0, 0, 0, 0, 0, 0, 0, 0, 0, 0, 0,\n",
       "       0, 0, 0, 0, 0, 0, 0, 0, 0, 0, 0, 0, 0, 0, 0, 0, 0, 0, 0, 0, 0, 0,\n",
       "       0, 0, 0, 0, 0, 0, 0, 0, 0, 0, 0, 0, 0, 0, 0, 0, 0, 0, 0, 0, 0, 0,\n",
       "       0, 0, 0, 0, 0, 0, 1, 0, 0, 0, 0, 0, 0, 0, 0, 0, 0, 0, 0, 0, 0, 0,\n",
       "       0, 0, 0, 0, 0, 0, 0, 0, 0, 0, 0, 0, 0, 0, 0, 0, 0, 0, 0, 0, 0, 0,\n",
       "       0, 0, 0, 0, 0, 0, 0, 0, 0, 0, 0])"
      ]
     },
     "execution_count": 54,
     "metadata": {},
     "output_type": "execute_result"
    }
   ],
   "source": [
    "predLR"
   ]
  },
  {
   "cell_type": "code",
   "execution_count": null,
   "metadata": {},
   "outputs": [],
   "source": []
  }
 ],
 "metadata": {
  "kernelspec": {
   "display_name": "Python 3",
   "language": "python",
   "name": "python3"
  },
  "language_info": {
   "codemirror_mode": {
    "name": "ipython",
    "version": 3
   },
   "file_extension": ".py",
   "mimetype": "text/x-python",
   "name": "python",
   "nbconvert_exporter": "python",
   "pygments_lexer": "ipython3",
   "version": "3.7.1"
  }
 },
 "nbformat": 4,
 "nbformat_minor": 2
}
