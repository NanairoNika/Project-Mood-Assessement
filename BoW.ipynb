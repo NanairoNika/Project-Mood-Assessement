{
 "cells": [
  {
   "cell_type": "code",
   "execution_count": 1,
   "metadata": {},
   "outputs": [
    {
     "name": "stderr",
     "output_type": "stream",
     "text": [
      "C:\\Users\\1255971\\Anaconda3\\lib\\site-packages\\smart_open\\ssh.py:34: UserWarning: paramiko missing, opening SSH/SCP/SFTP paths will be disabled.  `pip install paramiko` to suppress\n",
      "  warnings.warn('paramiko missing, opening SSH/SCP/SFTP paths will be disabled.  `pip install paramiko` to suppress')\n",
      "C:\\Users\\1255971\\Anaconda3\\lib\\site-packages\\gensim\\utils.py:1197: UserWarning: detected Windows; aliasing chunkize to chunkize_serial\n",
      "  warnings.warn(\"detected Windows; aliasing chunkize to chunkize_serial\")\n"
     ]
    }
   ],
   "source": [
    "import re\n",
    "import csv\n",
    "import json\n",
    "import numpy as np\n",
    "import pandas as pd\n",
    "import matplotlib.pyplot as plt\n",
    "from itertools import groupby\n",
    "from collections import namedtuple\n",
    "from pandas.io.json import json_normalize\n",
    "\n",
    "\n",
    "import nltk\n",
    "import pymorphy2\n",
    "from string import punctuation\n",
    "from nltk.corpus import stopwords\n",
    "from nltk.tokenize import sent_tokenize, word_tokenize\n",
    "\n",
    "\n",
    "from gensim.models import Doc2Vec\n",
    "from gensim.models import Word2Vec\n",
    "from gensim.models import KeyedVectors\n",
    "\n",
    "\n",
    "from sklearn.feature_extraction.text import TfidfVectorizer\n",
    "from sklearn.model_selection import train_test_split\n",
    "from sklearn.semi_supervised import LabelPropagation\n",
    "from sklearn.semi_supervised import LabelSpreading\n",
    "from sklearn.cluster import KMeans\n",
    "from sklearn.ensemble import BaggingClassifier\n",
    "from sklearn.tree import DecisionTreeClassifier"
   ]
  },
  {
   "cell_type": "code",
   "execution_count": 2,
   "metadata": {},
   "outputs": [],
   "source": [
    "def cleaning(text):\n",
    "    text = re.sub(r'[^\\w\\s]','',text)\n",
    "    tokenized = []\n",
    "    words = word_tokenize(text)\n",
    "    for word in words:\n",
    "        p = morph.parse(word)[0]\n",
    "        tokenized.append(p.normal_form)\n",
    "    tokenized = [token for token in tokenized if token not in stopWords\\\n",
    "                and token != \" \" \\\n",
    "                and token != \"—\" \\\n",
    "                and token != \"«\" \\\n",
    "                and token != \"»\" \\\n",
    "                and token != \"..\" \\\n",
    "                and token.strip() not in punctuation]\n",
    "    return tokenized"
   ]
  },
  {
   "cell_type": "code",
   "execution_count": 3,
   "metadata": {},
   "outputs": [],
   "source": [
    "file = 'classic_poems.json'\n",
    "with open(file, 'r', encoding='utf-8') as fh: #открываем файл на чтение\n",
    "    data = json.load(fh)\n",
    "morph = pymorphy2.MorphAnalyzer()\n",
    "stopWords = stopwords.words('russian')"
   ]
  },
  {
   "cell_type": "code",
   "execution_count": 4,
   "metadata": {},
   "outputs": [],
   "source": [
    "poems = pd.DataFrame(data)\n",
    "blok = poems[lambda x: x['poet_id'] == 'blok']\n",
    "cleaned_blok = blok['content'].apply(cleaning)\n",
    "dfpoems = cleaned_blok\n",
    "Blokpoems = dfpoems.tolist()"
   ]
  },
  {
   "cell_type": "code",
   "execution_count": 5,
   "metadata": {},
   "outputs": [],
   "source": [
    "dictionary = pd.read_csv('WordRate.csv', sep=';', index_col=0, encoding = 'windows-1251')\n",
    "sentiments = dictionary['average rate']\n",
    "positive1 = dictionary[lambda x: x['average rate'] == 1]\n",
    "positive2 = dictionary[lambda x: x['average rate'] == 2]\n",
    "negative1 = dictionary[lambda x: x['average rate'] == -1]\n",
    "negative2 = dictionary[lambda x: x['average rate'] == -2]\n",
    "neutral = dictionary[lambda x: x['average rate'] == 0]\n",
    "posdf1 = positive1['average rate']\n",
    "posdf2 = positive2['average rate']\n",
    "negdf1 = negative1['average rate']\n",
    "negdf2 = negative2['average rate']\n",
    "neudf = neutral['average rate']\n",
    "pos1 = posdf1.index\n",
    "pos2 = posdf2.index\n",
    "neg1 = negdf1.index\n",
    "neg2 = negdf2.index\n",
    "neu = neudf.index"
   ]
  },
  {
   "cell_type": "code",
   "execution_count": 6,
   "metadata": {},
   "outputs": [],
   "source": [
    "def merge (Blokpoems):\n",
    "    all=[]\n",
    "    for lst in Blokpoems:\n",
    "      all.extend(lst)\n",
    "    return all\n",
    "words = merge(Blokpoems)\n",
    "vocab = set(words)"
   ]
  },
  {
   "cell_type": "code",
   "execution_count": 7,
   "metadata": {},
   "outputs": [],
   "source": [
    "def BoW (text, vocab):\n",
    "    vecttext = []\n",
    "    i = 0\n",
    "    for el in vocab:\n",
    "        counter = 0\n",
    "        for word in text:\n",
    "            if el == word:\n",
    "                counter = 1\n",
    "                break\n",
    "        vecttext.append(counter)\n",
    "        i+=1\n",
    "    return vecttext"
   ]
  },
  {
   "cell_type": "code",
   "execution_count": 8,
   "metadata": {},
   "outputs": [],
   "source": [
    "def TFIDF (poems):\n",
    "    arrpoems =[]\n",
    "    for i in poems:\n",
    "        string = ' '.join(i)\n",
    "        arrpoems.append(string)\n",
    "    vectorizer = TfidfVectorizer()\n",
    "    matrix = vectorizer.fit_transform(arrpoems).todense()\n",
    "    matrix = pd.DataFrame(matrix, columns=vectorizer.get_feature_names())\n",
    "    return matrix"
   ]
  },
  {
   "cell_type": "code",
   "execution_count": 10,
   "metadata": {},
   "outputs": [],
   "source": [
    "TextVectors = []\n",
    "for text in Blokpoems:\n",
    "    vector = BoW(text, vocab)\n",
    "    TextVectors.append(vector)"
   ]
  },
  {
   "cell_type": "code",
   "execution_count": 11,
   "metadata": {},
   "outputs": [],
   "source": [
    "tfidfplain = TFIDF(Blokpoems)"
   ]
  },
  {
   "cell_type": "code",
   "execution_count": 22,
   "metadata": {},
   "outputs": [],
   "source": [
    "sents = []\n",
    "for word in vocab:\n",
    "    if word in pos1:\n",
    "        sents.append(1)\n",
    "    elif word in pos2:\n",
    "        sents.append(2)\n",
    "    elif word in neu:\n",
    "        sents.append(0)\n",
    "    elif word in neg1:\n",
    "        sents.append(-1)\n",
    "    elif word in neg2:\n",
    "        sents.append(-2)\n",
    "    else:\n",
    "        sents.append(0)"
   ]
  },
  {
   "cell_type": "code",
   "execution_count": 13,
   "metadata": {},
   "outputs": [],
   "source": [
    "dicti = list(vocab)"
   ]
  },
  {
   "cell_type": "code",
   "execution_count": 42,
   "metadata": {},
   "outputs": [],
   "source": [
    "newDocVecs = []\n",
    "text_n = 0\n",
    "for t in TextVectors:\n",
    "    vec = []\n",
    "    word_n = 0\n",
    "    for w in t:\n",
    "        if dicti[word_n] in tfidfplain:\n",
    "            word = dicti[word_n]\n",
    "            index = TextVectors[text_n][word_n]*tfidfplain[word][text_n]\n",
    "        else:\n",
    "            index = 0\n",
    "        vec.append(index)\n",
    "        word_n += 1\n",
    "    vec = np.array(vec)\n",
    "    newDocVecs.append(vec)\n",
    "    text_n += 1\n",
    "        "
   ]
  },
  {
   "cell_type": "code",
   "execution_count": 43,
   "metadata": {},
   "outputs": [],
   "source": [
    "kmeans = KMeans(n_clusters=2, max_iter = 500, random_state=50).fit(newDocVecs)\n",
    "lab = kmeans.labels_"
   ]
  },
  {
   "cell_type": "code",
   "execution_count": 47,
   "metadata": {},
   "outputs": [],
   "source": [
    "newDocVecs = []\n",
    "text_n = 0\n",
    "for t in TextVectors:\n",
    "    vec = []\n",
    "    word_n = 0\n",
    "    for w in t:\n",
    "        if dicti[word_n] in tfidfplain:\n",
    "            word = dicti[word_n]\n",
    "            index = TextVectors[text_n][word_n]*tfidfplain[word][text_n]*sents[word_n]\n",
    "        else:\n",
    "            index = 0\n",
    "        vec.append(index)\n",
    "        word_n += 1\n",
    "    vec = np.array(vec)\n",
    "    newDocVecs.append(vec)\n",
    "    text_n += 1"
   ]
  },
  {
   "cell_type": "code",
   "execution_count": 48,
   "metadata": {},
   "outputs": [],
   "source": [
    "kmeans = KMeans(n_clusters=2, max_iter = 500, random_state=50).fit(newDocVecs)\n",
    "lab = kmeans.labels_"
   ]
  }
 ],
 "metadata": {
  "kernelspec": {
   "display_name": "Python 3",
   "language": "python",
   "name": "python3"
  },
  "language_info": {
   "codemirror_mode": {
    "name": "ipython",
    "version": 3
   },
   "file_extension": ".py",
   "mimetype": "text/x-python",
   "name": "python",
   "nbconvert_exporter": "python",
   "pygments_lexer": "ipython3",
   "version": "3.7.3"
  }
 },
 "nbformat": 4,
 "nbformat_minor": 2
}
