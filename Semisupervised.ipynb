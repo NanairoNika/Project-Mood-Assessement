{
 "cells": [
  {
   "cell_type": "code",
   "execution_count": 12,
   "metadata": {
    "scrolled": true
   },
   "outputs": [],
   "source": [
    "import re\n",
    "import csv\n",
    "import json\n",
    "import numpy as np\n",
    "import pandas as pd\n",
    "import matplotlib.pyplot as plt\n",
    "from itertools import groupby\n",
    "from collections import namedtuple\n",
    "from pandas.io.json import json_normalize\n",
    "\n",
    "\n",
    "import nltk\n",
    "import pymorphy2\n",
    "from string import punctuation\n",
    "from nltk.corpus import stopwords\n",
    "from nltk.tokenize import sent_tokenize, word_tokenize\n",
    "\n",
    "\n",
    "from gensim.models import Doc2Vec\n",
    "from gensim.models import Word2Vec\n",
    "from gensim.models import KeyedVectors\n",
    "\n",
    "\n",
    "from sklearn.feature_extraction.text import TfidfVectorizer\n",
    "from sklearn.model_selection import train_test_split\n",
    "from sklearn.semi_supervised import LabelPropagation\n",
    "from sklearn.semi_supervised import LabelSpreading\n",
    "from sklearn.cluster import KMeans\n",
    "from sklearn.ensemble import BaggingClassifier\n",
    "from sklearn.tree import DecisionTreeClassifier"
   ]
  },
  {
   "cell_type": "code",
   "execution_count": 13,
   "metadata": {},
   "outputs": [],
   "source": [
    "def cleaning(text):\n",
    "    text = re.sub(r'[^\\w\\s]','',text)\n",
    "    tokenized = []\n",
    "    words = word_tokenize(text)\n",
    "    for word in words:\n",
    "        p = morph.parse(word)[0]\n",
    "        tokenized.append(p.normal_form)\n",
    "    tokenized = [token for token in tokenized if token not in stopWords\\\n",
    "                and token != \" \" \\\n",
    "                and token != \"—\" \\\n",
    "                and token != \"«\" \\\n",
    "                and token != \"»\" \\\n",
    "                and token != \"..\" \\\n",
    "                and token.strip() not in punctuation]\n",
    "    return tokenized"
   ]
  },
  {
   "cell_type": "code",
   "execution_count": 14,
   "metadata": {},
   "outputs": [],
   "source": [
    "def shaping (rev):\n",
    "    shapeddata = []\n",
    "    analyzedDocument = namedtuple('AnalyzedDocument', 'words tags')\n",
    "    for i, text in enumerate(rev):\n",
    "        tags = [i]\n",
    "        shapeddata.append(analyzedDocument(text, tags))\n",
    "    return shapeddata"
   ]
  },
  {
   "cell_type": "code",
   "execution_count": 15,
   "metadata": {},
   "outputs": [],
   "source": [
    "file = 'classic_poems.json'\n",
    "with open(file, 'r', encoding='utf-8') as fh: #открываем файл на чтение\n",
    "    data = json.load(fh)\n",
    "morph = pymorphy2.MorphAnalyzer()\n",
    "stopWords = stopwords.words('russian')"
   ]
  },
  {
   "cell_type": "code",
   "execution_count": 16,
   "metadata": {},
   "outputs": [],
   "source": [
    "poems = pd.DataFrame(data)\n",
    "blok = poems[lambda x: x['poet_id'] == 'blok']\n",
    "cleaned_blok = blok['content'].apply(cleaning)\n",
    "dfpoems = cleaned_blok\n",
    "Blokpoems = dfpoems.tolist()"
   ]
  },
  {
   "cell_type": "code",
   "execution_count": 18,
   "metadata": {},
   "outputs": [],
   "source": [
    "labels = [0,1,2,1,2,1,1,0,1,1,0,1,1,2,0,2,1,1,1,1,1,1,1,1,1,1,2,2,2,0,0,0,1,1,2,2,1,1,1,2,2,0,1,1,1,0,1,0,0,2,2, 2, 1, 2, 0, 0, 2, 1, 0, 0, 1, 1, 0 ,0 ,1, 2, 1, 0, 2, 2, 0, 0, 0, 1, 1, 1, 0, 1, 2, 1, 0, 1, 0, 0, 1, 0, 1, 0, 2, 2, 1, 0, 2, 1, 0, 1, 1, 1]"
   ]
  },
  {
   "cell_type": "code",
   "execution_count": 19,
   "metadata": {},
   "outputs": [],
   "source": [
    "alllabels = []\n",
    "for el in labels:\n",
    "    alllabels.append(el)\n",
    "for i in range (0, 979):\n",
    "    alllabels.append(-1)"
   ]
  },
  {
   "cell_type": "code",
   "execution_count": 20,
   "metadata": {},
   "outputs": [],
   "source": [
    "shaped_poems = shaping(Blokpoems)"
   ]
  },
  {
   "cell_type": "code",
   "execution_count": 21,
   "metadata": {},
   "outputs": [],
   "source": [
    "dv = Doc2Vec(shaped_poems, vector_size = 100, window = 300, min_count = 1, workers = 4)\n",
    "docvecs = []\n",
    "for i in range(0,1077):\n",
    "    docvecs.append(dv[i])\n",
    "\n"
   ]
  },
  {
   "cell_type": "code",
   "execution_count": 22,
   "metadata": {},
   "outputs": [
    {
     "name": "stderr",
     "output_type": "stream",
     "text": [
      "C:\\Users\\1255971\\Anaconda3\\lib\\site-packages\\sklearn\\semi_supervised\\label_propagation.py:297: RuntimeWarning: invalid value encountered in true_divide\n",
      "  self.label_distributions_ /= normalizer\n"
     ]
    }
   ],
   "source": [
    "labeled_spr = LabelSpreading(kernel='knn')\n",
    "labelsenttest = labeled_spr.fit(docvecs, alllabels)\n",
    "labelstest = labelsenttest.transduction_"
   ]
  }
 ],
 "metadata": {
  "kernelspec": {
   "display_name": "Python 3",
   "language": "python",
   "name": "python3"
  },
  "language_info": {
   "codemirror_mode": {
    "name": "ipython",
    "version": 3
   },
   "file_extension": ".py",
   "mimetype": "text/x-python",
   "name": "python",
   "nbconvert_exporter": "python",
   "pygments_lexer": "ipython3",
   "version": "3.7.3"
  }
 },
 "nbformat": 4,
 "nbformat_minor": 2
}
